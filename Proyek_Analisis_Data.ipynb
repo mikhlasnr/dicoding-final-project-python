{
  "cells": [
    {
      "cell_type": "markdown",
      "metadata": {
        "id": "H9wADwK78DCz"
      },
      "source": [
        "# Proyek Analisis Data: [E-Commerce Public Dataset]\n",
        "- **Nama:** [Muhammad Ikhlas Naufalsyah Ranau]\n",
        "- **Email:** [naufalsyah.ranau@gmail.com]\n",
        "- **ID Dicoding:** [mikhlasnr]"
      ]
    },
    {
      "cell_type": "markdown",
      "metadata": {
        "id": "AUmRB4bpA-eK"
      },
      "source": [
        "## Background E-Commerce Public Dataset\n"
      ]
    },
    {
      "cell_type": "markdown",
      "metadata": {
        "id": "mpsO5wPXA-eK"
      },
      "source": [
        "\n",
        "### **Tentang Dataset**\n",
        "Dataset ini adalah **Brazilian E-Commerce Public Dataset** yang disediakan oleh **Olist**, marketplace terbesar di Brasil. Dataset ini berisi informasi dari **100.000 pesanan** yang dilakukan dari **2016 hingga 2018** di berbagai marketplace di Brasil.\n",
        "\n",
        "\n",
        "### **Tentang Olist**\n",
        "Olist adalah department store terbesar di marketplace Brasil yang:\n",
        "- Menghubungkan bisnis kecil dari seluruh Brasil\n",
        "- Menyediakan akses ke berbagai channel dengan kontrak tunggal\n",
        "- Memungkinkan merchant menjual produk melalui Olist Store\n",
        "- Menggunakan partner logistik untuk pengiriman langsung ke pelanggan\n",
        "\n",
        "\n",
        "### **Karakteristik Dataset**\n",
        "- **Sumber**: Data komersial nyata yang telah dianonimkan\n",
        "- **Periode**: 2016-2018 (3 tahun data)\n",
        "- **Volume**: 100k+ pesanan\n",
        "- **Cakupan**: Multiple marketplace di Brasil\n",
        "- **Anonimisasi**: Referensi perusahaan dan partner diganti dengan nama rumah besar Game of Thrones\n",
        "\n",
        "### **Fitur Dataset**\n",
        "Dataset memungkinkan analisis pesanan dari berbagai dimensi:\n",
        "- **Status pesanan** dan timeline pengiriman\n",
        "- **Harga** dan performa pembayaran\n",
        "- **Lokasi pelanggan** dan data geografis\n",
        "- **Atribut produk** dan kategori\n",
        "- **Review pelanggan** dan rating kepuasan\n",
        "\n",
        "### **Catatan Penting**\n",
        "- Satu pesanan bisa memiliki **multiple items**\n",
        "- Setiap item bisa dipenuhi oleh **seller yang berbeda**\n",
        "- Semua teks yang mengidentifikasi toko diganti dengan nama rumah Game of Thrones\n",
        "- Dataset geolokasi tersedia untuk mapping koordinat lat/lng\n",
        "\n",
        "\n",
        "### Data Schema\n",
        "\n",
        "![image info](https://i.imgur.com/HRhd2Y0.png)\n",
        "\n",
        "\n"
      ]
    },
    {
      "cell_type": "markdown",
      "metadata": {
        "id": "eE0raob58DC0"
      },
      "source": [
        "## Menentukan Pertanyaan Bisnis\n",
        "\n",
        "**1. Analisis Pelanggan (Customer Analysis)**\n",
        "- Bagaimana segmentasi pelanggan berdasarkan nilai dan frekuensi pembelian?\n",
        "- Wilayah mana yang memiliki pelanggan paling berharga?\n",
        "- Berapa lama siklus hidup pelanggan dan tingkat retensi?\n",
        "\n",
        "**2. Analisis Produk (Product Analysis)**\n",
        "- Kategori produk mana yang paling menguntungkan?\n",
        "- Bagaimana performa produk berdasarkan review dan rating?\n",
        "- Apakah ada korelasi antara dimensi produk dan biaya pengiriman?\n",
        "\n",
        "**3. Analisis Penjual (Seller Analysis)**\n",
        "- Penjual mana yang memiliki performa terbaik?\n",
        "- Bagaimana distribusi geografis penjual mempengaruhi penjualan?\n",
        "- Apakah ada pola dalam rating penjual berdasarkan lokasi?\n",
        "\n",
        "**4. Analisis Operasional (Operational Analysis)**\n",
        "- Berapa rata-rata waktu pengiriman dan akurasi estimasi?\n",
        "- Metode pembayaran mana yang paling populer?\n",
        "- Bagaimana performa pengiriman berdasarkan wilayah?"
      ]
    },
    {
      "cell_type": "markdown",
      "metadata": {
        "id": "H-z4QGlO8DC1"
      },
      "source": [
        "## Import Semua Packages/Library yang Digunakan"
      ]
    },
    {
      "cell_type": "code",
      "execution_count": 1,
      "metadata": {
        "id": "FVYwaObI8DC1"
      },
      "outputs": [],
      "source": [
        "import numpy as np\n",
        "import pandas as pd\n",
        "import matplotlib.pyplot as plt\n",
        "import seaborn as sns"
      ]
    },
    {
      "cell_type": "markdown",
      "metadata": {
        "id": "h_Sh51Xy8DC1"
      },
      "source": [
        "## Data Wrangling"
      ]
    },
    {
      "cell_type": "markdown",
      "metadata": {
        "id": "sXU2GBYu8DC1"
      },
      "source": [
        "### Gathering Data"
      ]
    },
    {
      "cell_type": "markdown",
      "metadata": {
        "id": "rs3IhQ2jA-eL"
      },
      "source": [
        "#### Import Semua Dataset"
      ]
    },
    {
      "cell_type": "code",
      "execution_count": 2,
      "metadata": {
        "id": "zjCBk1BI8DC1"
      },
      "outputs": [],
      "source": [
        "base_url = 'data'\n",
        "customers_df = pd.read_csv(base_url + \"/customers_dataset.csv\")\n",
        "\n",
        "geolocation_df = pd.read_csv(base_url +  \"/geolocation_dataset.csv\")\n",
        "\n",
        "order_items_df = pd.read_csv(base_url + \"/order_items_dataset.csv\")\n",
        "order_payments_df = pd.read_csv(base_url + \"/order_payments_dataset.csv\")\n",
        "order_reviews_df = pd.read_csv(base_url + \"/order_reviews_dataset.csv\")\n",
        "orders_df = pd.read_csv(base_url + \"/orders_dataset.csv\")\n",
        "\n",
        "product_category_df = pd.read_csv(base_url + \"/product_category_name_translation.csv\")\n",
        "products_df = pd.read_csv(base_url + \"/products_dataset.csv\")\n",
        "\n",
        "\n",
        "sellers_df = pd.read_csv(base_url + \"/sellers_dataset.csv\")"
      ]
    },
    {
      "cell_type": "markdown",
      "metadata": {
        "id": "FLmPw5DRA-eL"
      },
      "source": [
        "### Data Understanding"
      ]
    },
    {
      "cell_type": "markdown",
      "metadata": {},
      "source": [
        "#### customers_df\n",
        "\n",
        "Dataset ini berisi informasi tentang identitas dan lokasi geografis pelanggan. \n",
        "\n",
        "Berikut adalah penjelasan detail untuk setiap kolom pada dataset customers:\n",
        "\n",
        "- **customer_id**: ID unik untuk setiap transaksi pesanan. Format: string alfanumerik 32 karakter. Contoh: \"06b8999e2fba1a1fbc88172c00ba8bc7\". Setiap pesanan memiliki customer_id yang berbeda, bahkan jika berasal dari pelanggan yang sama.\n",
        "\n",
        "- **customer_unique_id**: ID permanen untuk setiap pelanggan. Format: string alfanumerik 32 karakter. Contoh: \"861eff4711a542e4b93843c6dd7febb0\". Digunakan untuk melacak pembelian berulang dari pelanggan yang sama. Satu customer_unique_id dapat memiliki multiple customer_id.\n",
        "\n",
        "- **customer_zip_code_prefix**: Prefix kode pos pelanggan (5 digit pertama). Format: string numerik. Contoh: \"14409\", \"9790\". Mengidentifikasi wilayah geografis tempat tinggal pelanggan.\n",
        "\n",
        "- **customer_city**: Nama kota tempat tinggal pelanggan. Format: string lowercase. Contoh: \"franca\", \"sao bernardo do campo\", \"sao paulo\". Dapat digunakan untuk analisis geografis dan segmentasi pelanggan.\n",
        "\n",
        "- **customer_state**: Kode negara bagian tempat tinggal pelanggan. Format: string 2 karakter. Contoh: \"SP\", \"RJ\", \"MG\". Menggunakan singkatan standar negara bagian Brasil.\n",
        "\n",
        "**Catatan Penting:**\n",
        "- Satu pelanggan (customer_unique_id) dapat melakukan multiple pesanan, sehingga akan memiliki multiple customer_id\n",
        "- customer_unique_id adalah kunci untuk analisis customer lifetime value (CLV) dan customer retention\n",
        "- Dataset ini dapat di-join dengan tabel orders menggunakan customer_id untuk mendapatkan riwayat pesanan pelanggan\n",
        "- Data geografis (zip_code_prefix, city, state) dapat di-join dengan tabel geolocation untuk mendapatkan koordinat lat/lng\n",
        "- Dapat digunakan untuk analisis: segmentasi pelanggan, distribusi geografis, customer behavior, dan market penetration\n"
      ]
    },
    {
      "cell_type": "code",
      "execution_count": 3,
      "metadata": {
        "id": "3Se4hkEhA-eM",
        "outputId": "30c13ed9-ebd0-4a3b-ef8f-e12bef5f6cab"
      },
      "outputs": [
        {
          "data": {
            "text/html": [
              "<div>\n",
              "<style scoped>\n",
              "    .dataframe tbody tr th:only-of-type {\n",
              "        vertical-align: middle;\n",
              "    }\n",
              "\n",
              "    .dataframe tbody tr th {\n",
              "        vertical-align: top;\n",
              "    }\n",
              "\n",
              "    .dataframe thead th {\n",
              "        text-align: right;\n",
              "    }\n",
              "</style>\n",
              "<table border=\"1\" class=\"dataframe\">\n",
              "  <thead>\n",
              "    <tr style=\"text-align: right;\">\n",
              "      <th></th>\n",
              "      <th>customer_id</th>\n",
              "      <th>customer_unique_id</th>\n",
              "      <th>customer_zip_code_prefix</th>\n",
              "      <th>customer_city</th>\n",
              "      <th>customer_state</th>\n",
              "    </tr>\n",
              "  </thead>\n",
              "  <tbody>\n",
              "    <tr>\n",
              "      <th>0</th>\n",
              "      <td>06b8999e2fba1a1fbc88172c00ba8bc7</td>\n",
              "      <td>861eff4711a542e4b93843c6dd7febb0</td>\n",
              "      <td>14409</td>\n",
              "      <td>franca</td>\n",
              "      <td>SP</td>\n",
              "    </tr>\n",
              "    <tr>\n",
              "      <th>1</th>\n",
              "      <td>18955e83d337fd6b2def6b18a428ac77</td>\n",
              "      <td>290c77bc529b7ac935b93aa66c333dc3</td>\n",
              "      <td>9790</td>\n",
              "      <td>sao bernardo do campo</td>\n",
              "      <td>SP</td>\n",
              "    </tr>\n",
              "    <tr>\n",
              "      <th>2</th>\n",
              "      <td>4e7b3e00288586ebd08712fdd0374a03</td>\n",
              "      <td>060e732b5b29e8181a18229c7b0b2b5e</td>\n",
              "      <td>1151</td>\n",
              "      <td>sao paulo</td>\n",
              "      <td>SP</td>\n",
              "    </tr>\n",
              "    <tr>\n",
              "      <th>3</th>\n",
              "      <td>b2b6027bc5c5109e529d4dc6358b12c3</td>\n",
              "      <td>259dac757896d24d7702b9acbbff3f3c</td>\n",
              "      <td>8775</td>\n",
              "      <td>mogi das cruzes</td>\n",
              "      <td>SP</td>\n",
              "    </tr>\n",
              "    <tr>\n",
              "      <th>4</th>\n",
              "      <td>4f2d8ab171c80ec8364f7c12e35b23ad</td>\n",
              "      <td>345ecd01c38d18a9036ed96c73b8d066</td>\n",
              "      <td>13056</td>\n",
              "      <td>campinas</td>\n",
              "      <td>SP</td>\n",
              "    </tr>\n",
              "  </tbody>\n",
              "</table>\n",
              "</div>"
            ],
            "text/plain": [
              "                        customer_id                customer_unique_id  \\\n",
              "0  06b8999e2fba1a1fbc88172c00ba8bc7  861eff4711a542e4b93843c6dd7febb0   \n",
              "1  18955e83d337fd6b2def6b18a428ac77  290c77bc529b7ac935b93aa66c333dc3   \n",
              "2  4e7b3e00288586ebd08712fdd0374a03  060e732b5b29e8181a18229c7b0b2b5e   \n",
              "3  b2b6027bc5c5109e529d4dc6358b12c3  259dac757896d24d7702b9acbbff3f3c   \n",
              "4  4f2d8ab171c80ec8364f7c12e35b23ad  345ecd01c38d18a9036ed96c73b8d066   \n",
              "\n",
              "   customer_zip_code_prefix          customer_city customer_state  \n",
              "0                     14409                 franca             SP  \n",
              "1                      9790  sao bernardo do campo             SP  \n",
              "2                      1151              sao paulo             SP  \n",
              "3                      8775        mogi das cruzes             SP  \n",
              "4                     13056               campinas             SP  "
            ]
          },
          "execution_count": 3,
          "metadata": {},
          "output_type": "execute_result"
        }
      ],
      "source": [
        "customers_df.head()"
      ]
    },
    {
      "cell_type": "markdown",
      "metadata": {
        "id": "gE05XkYNA-eM"
      },
      "source": [
        "#### geolocation_df\n",
        "\n",
        "Dataset ini berisi informasi kode pos Brasil beserta koordinat geografisnya (latitude dan longitude). Dataset ini digunakan untuk membuat peta dan menghitung jarak antara penjual dan pelanggan.\n",
        "\n",
        "Berikut adalah penjelasan detail untuk setiap kolom pada dataset geolocation:\n",
        "\n",
        "- **geolocation_zip_code_prefix**: Prefix kode pos Brasil (5 digit pertama). Kode pos Brasil memiliki format 8 digit (contoh: 01037-000), dan kolom ini menyimpan 5 digit pertama yang mengidentifikasi wilayah geografis tertentu. Contoh: \"01037\" mengidentifikasi wilayah tertentu di São Paulo.\n",
        "\n",
        "- **geolocation_lat**: Latitude (garis lintang) dalam format decimal degrees. Nilai ini menunjukkan posisi geografis di utara atau selatan garis khatulistiwa. Untuk Brasil, nilai latitude biasanya negatif karena berada di belahan selatan bumi. Contoh: -23.545621 menunjukkan lokasi sekitar 23.5° di selatan khatulistiwa.\n",
        "\n",
        "- **geolocation_lng**: Longitude (garis bujur) dalam format decimal degrees. Nilai ini menunjukkan posisi geografis di barat atau timur meridian utama (Greenwich). Untuk Brasil, nilai longitude biasanya negatif karena berada di belahan barat bumi. Contoh: -46.639292 menunjukkan lokasi sekitar 46.6° di barat meridian utama.\n",
        "\n",
        "- **geolocation_city**: Nama kota dalam format lowercase (huruf kecil). Menunjukkan kota tempat lokasi geografis tersebut berada. Contoh: \"sao paulo\", \"rio de janeiro\", \"belo horizonte\".\n",
        "\n",
        "- **geolocation_state**: Kode negara bagian Brasil (2 karakter). Brasil memiliki 26 negara bagian dan 1 distrik federal. Kode ini menggunakan singkatan standar. Contoh: \"SP\" untuk São Paulo, \"RJ\" untuk Rio de Janeiro, \"MG\" untuk Minas Gerais.\n",
        "\n",
        "\n",
        "Catatan Penting:\n",
        "- Satu kode pos prefix dapat memiliki beberapa koordinat lat/lng berbeda (karena kode pos bisa mencakup area yang luas)\n",
        "- Koordinat lat/lng dapat digunakan untuk menghitung jarak antara lokasi menggunakan rumus Haversine atau metode geografis lainnya\n",
        "- Dataset ini dapat di-join dengan tabel customers dan sellers menggunakan zip_code_prefix untuk mendapatkan koordinat geografis mereka\n",
        "\n"
      ]
    },
    {
      "cell_type": "code",
      "execution_count": 4,
      "metadata": {},
      "outputs": [
        {
          "data": {
            "text/html": [
              "<div>\n",
              "<style scoped>\n",
              "    .dataframe tbody tr th:only-of-type {\n",
              "        vertical-align: middle;\n",
              "    }\n",
              "\n",
              "    .dataframe tbody tr th {\n",
              "        vertical-align: top;\n",
              "    }\n",
              "\n",
              "    .dataframe thead th {\n",
              "        text-align: right;\n",
              "    }\n",
              "</style>\n",
              "<table border=\"1\" class=\"dataframe\">\n",
              "  <thead>\n",
              "    <tr style=\"text-align: right;\">\n",
              "      <th></th>\n",
              "      <th>geolocation_zip_code_prefix</th>\n",
              "      <th>geolocation_lat</th>\n",
              "      <th>geolocation_lng</th>\n",
              "      <th>geolocation_city</th>\n",
              "      <th>geolocation_state</th>\n",
              "    </tr>\n",
              "  </thead>\n",
              "  <tbody>\n",
              "    <tr>\n",
              "      <th>0</th>\n",
              "      <td>1037</td>\n",
              "      <td>-23.545621</td>\n",
              "      <td>-46.639292</td>\n",
              "      <td>sao paulo</td>\n",
              "      <td>SP</td>\n",
              "    </tr>\n",
              "    <tr>\n",
              "      <th>1</th>\n",
              "      <td>1046</td>\n",
              "      <td>-23.546081</td>\n",
              "      <td>-46.644820</td>\n",
              "      <td>sao paulo</td>\n",
              "      <td>SP</td>\n",
              "    </tr>\n",
              "    <tr>\n",
              "      <th>2</th>\n",
              "      <td>1046</td>\n",
              "      <td>-23.546129</td>\n",
              "      <td>-46.642951</td>\n",
              "      <td>sao paulo</td>\n",
              "      <td>SP</td>\n",
              "    </tr>\n",
              "    <tr>\n",
              "      <th>3</th>\n",
              "      <td>1041</td>\n",
              "      <td>-23.544392</td>\n",
              "      <td>-46.639499</td>\n",
              "      <td>sao paulo</td>\n",
              "      <td>SP</td>\n",
              "    </tr>\n",
              "    <tr>\n",
              "      <th>4</th>\n",
              "      <td>1035</td>\n",
              "      <td>-23.541578</td>\n",
              "      <td>-46.641607</td>\n",
              "      <td>sao paulo</td>\n",
              "      <td>SP</td>\n",
              "    </tr>\n",
              "  </tbody>\n",
              "</table>\n",
              "</div>"
            ],
            "text/plain": [
              "   geolocation_zip_code_prefix  geolocation_lat  geolocation_lng  \\\n",
              "0                         1037       -23.545621       -46.639292   \n",
              "1                         1046       -23.546081       -46.644820   \n",
              "2                         1046       -23.546129       -46.642951   \n",
              "3                         1041       -23.544392       -46.639499   \n",
              "4                         1035       -23.541578       -46.641607   \n",
              "\n",
              "  geolocation_city geolocation_state  \n",
              "0        sao paulo                SP  \n",
              "1        sao paulo                SP  \n",
              "2        sao paulo                SP  \n",
              "3        sao paulo                SP  \n",
              "4        sao paulo                SP  "
            ]
          },
          "execution_count": 4,
          "metadata": {},
          "output_type": "execute_result"
        }
      ],
      "source": [
        "geolocation_df.head()"
      ]
    },
    {
      "cell_type": "markdown",
      "metadata": {
        "id": "fWwgB_j5A-eM"
      },
      "source": [
        "#### order_items_df\n",
        "\n",
        "Dataset ini berisi informasi detail tentang item-item yang dibeli dalam setiap pesanan. Setiap baris merepresentasikan satu item dalam pesanan tertentu.\n",
        "\n",
        "Berikut adalah penjelasan detail untuk setiap kolom pada dataset order_items:\n",
        "\n",
        "- **order_id**: ID unik untuk setiap pesanan. Satu pesanan dapat memiliki beberapa item, sehingga order_id yang sama dapat muncul beberapa kali dalam dataset. Format: string alfanumerik 32 karakter. Contoh: \"00010242fe8c5a6d1ba2dd792cb16214\"\n",
        "\n",
        "- **order_item_id**: Nomor urut item dalam satu pesanan. Dimulai dari 1 untuk item pertama dalam pesanan, 2 untuk item kedua, dan seterusnya. Tipe data: integer. Contoh: 1, 2, 3 (menunjukkan item ke-1, ke-2, ke-3 dalam pesanan yang sama)\n",
        "\n",
        "- **product_id**: ID unik untuk setiap produk. Format: string alfanumerik 32 karakter. Contoh: \"4244733e06e7ecb4970a6e2683c13e61\". Dapat di-join dengan tabel products untuk mendapatkan informasi detail produk.\n",
        "\n",
        "- **seller_id**: ID unik untuk penjual yang menjual produk tersebut. Format: string alfanumerik 32 karakter. Contoh: \"48436dade18ac8b2bce089ec2a041202\". Dapat di-join dengan tabel sellers untuk mendapatkan informasi penjual.\n",
        "\n",
        "- **shipping_limit_date**: Batas waktu pengiriman yang ditetapkan untuk item tersebut. Format: datetime (YYYY-MM-DD HH:MM:SS). Contoh: \"2017-09-19 09:45:35\". Ini adalah deadline yang harus dipenuhi penjual untuk mengirimkan item.\n",
        "\n",
        "- **price**: Harga produk per unit dalam mata uang Real Brasil (BRL). Tipe data: float. Contoh: 58.90, 239.90, 199.00. Harga ini adalah harga yang dibayar pelanggan untuk satu unit produk.\n",
        "\n",
        "- **freight_value**: Biaya pengiriman (ongkos kirim) untuk item tersebut dalam mata uang Real Brasil (BRL). Tipe data: float. Contoh: 13.29, 19.93, 17.87. Biaya ini terpisah dari harga produk dan biasanya dibebankan kepada pelanggan.\n",
        "\n",
        "**Catatan Penting:**\n",
        "- Satu pesanan (order_id) dapat memiliki multiple items dengan order_item_id yang berbeda\n",
        "- Setiap item dalam pesanan dapat berasal dari seller yang berbeda (seller_id berbeda)\n",
        "- Total nilai pesanan = sum(price) + sum(freight_value) untuk semua item dalam pesanan tersebut\n",
        "- Dataset ini adalah tabel fact utama yang menghubungkan orders, products, dan sellers\n",
        "- Dapat digunakan untuk analisis: nilai pesanan, performa penjual, popularitas produk, dan efisiensi pengiriman"
      ]
    },
    {
      "cell_type": "code",
      "execution_count": 5,
      "metadata": {
        "id": "870LEVGdA-eM",
        "outputId": "4d59ecf3-d5bc-4c56-d134-1e9f42cd0d1d"
      },
      "outputs": [
        {
          "data": {
            "text/html": [
              "<div>\n",
              "<style scoped>\n",
              "    .dataframe tbody tr th:only-of-type {\n",
              "        vertical-align: middle;\n",
              "    }\n",
              "\n",
              "    .dataframe tbody tr th {\n",
              "        vertical-align: top;\n",
              "    }\n",
              "\n",
              "    .dataframe thead th {\n",
              "        text-align: right;\n",
              "    }\n",
              "</style>\n",
              "<table border=\"1\" class=\"dataframe\">\n",
              "  <thead>\n",
              "    <tr style=\"text-align: right;\">\n",
              "      <th></th>\n",
              "      <th>order_id</th>\n",
              "      <th>order_item_id</th>\n",
              "      <th>product_id</th>\n",
              "      <th>seller_id</th>\n",
              "      <th>shipping_limit_date</th>\n",
              "      <th>price</th>\n",
              "      <th>freight_value</th>\n",
              "    </tr>\n",
              "  </thead>\n",
              "  <tbody>\n",
              "    <tr>\n",
              "      <th>0</th>\n",
              "      <td>00010242fe8c5a6d1ba2dd792cb16214</td>\n",
              "      <td>1</td>\n",
              "      <td>4244733e06e7ecb4970a6e2683c13e61</td>\n",
              "      <td>48436dade18ac8b2bce089ec2a041202</td>\n",
              "      <td>2017-09-19 09:45:35</td>\n",
              "      <td>58.90</td>\n",
              "      <td>13.29</td>\n",
              "    </tr>\n",
              "    <tr>\n",
              "      <th>1</th>\n",
              "      <td>00018f77f2f0320c557190d7a144bdd3</td>\n",
              "      <td>1</td>\n",
              "      <td>e5f2d52b802189ee658865ca93d83a8f</td>\n",
              "      <td>dd7ddc04e1b6c2c614352b383efe2d36</td>\n",
              "      <td>2017-05-03 11:05:13</td>\n",
              "      <td>239.90</td>\n",
              "      <td>19.93</td>\n",
              "    </tr>\n",
              "    <tr>\n",
              "      <th>2</th>\n",
              "      <td>000229ec398224ef6ca0657da4fc703e</td>\n",
              "      <td>1</td>\n",
              "      <td>c777355d18b72b67abbeef9df44fd0fd</td>\n",
              "      <td>5b51032eddd242adc84c38acab88f23d</td>\n",
              "      <td>2018-01-18 14:48:30</td>\n",
              "      <td>199.00</td>\n",
              "      <td>17.87</td>\n",
              "    </tr>\n",
              "    <tr>\n",
              "      <th>3</th>\n",
              "      <td>00024acbcdf0a6daa1e931b038114c75</td>\n",
              "      <td>1</td>\n",
              "      <td>7634da152a4610f1595efa32f14722fc</td>\n",
              "      <td>9d7a1d34a5052409006425275ba1c2b4</td>\n",
              "      <td>2018-08-15 10:10:18</td>\n",
              "      <td>12.99</td>\n",
              "      <td>12.79</td>\n",
              "    </tr>\n",
              "    <tr>\n",
              "      <th>4</th>\n",
              "      <td>00042b26cf59d7ce69dfabb4e55b4fd9</td>\n",
              "      <td>1</td>\n",
              "      <td>ac6c3623068f30de03045865e4e10089</td>\n",
              "      <td>df560393f3a51e74553ab94004ba5c87</td>\n",
              "      <td>2017-02-13 13:57:51</td>\n",
              "      <td>199.90</td>\n",
              "      <td>18.14</td>\n",
              "    </tr>\n",
              "  </tbody>\n",
              "</table>\n",
              "</div>"
            ],
            "text/plain": [
              "                           order_id  order_item_id  \\\n",
              "0  00010242fe8c5a6d1ba2dd792cb16214              1   \n",
              "1  00018f77f2f0320c557190d7a144bdd3              1   \n",
              "2  000229ec398224ef6ca0657da4fc703e              1   \n",
              "3  00024acbcdf0a6daa1e931b038114c75              1   \n",
              "4  00042b26cf59d7ce69dfabb4e55b4fd9              1   \n",
              "\n",
              "                         product_id                         seller_id  \\\n",
              "0  4244733e06e7ecb4970a6e2683c13e61  48436dade18ac8b2bce089ec2a041202   \n",
              "1  e5f2d52b802189ee658865ca93d83a8f  dd7ddc04e1b6c2c614352b383efe2d36   \n",
              "2  c777355d18b72b67abbeef9df44fd0fd  5b51032eddd242adc84c38acab88f23d   \n",
              "3  7634da152a4610f1595efa32f14722fc  9d7a1d34a5052409006425275ba1c2b4   \n",
              "4  ac6c3623068f30de03045865e4e10089  df560393f3a51e74553ab94004ba5c87   \n",
              "\n",
              "   shipping_limit_date   price  freight_value  \n",
              "0  2017-09-19 09:45:35   58.90          13.29  \n",
              "1  2017-05-03 11:05:13  239.90          19.93  \n",
              "2  2018-01-18 14:48:30  199.00          17.87  \n",
              "3  2018-08-15 10:10:18   12.99          12.79  \n",
              "4  2017-02-13 13:57:51  199.90          18.14  "
            ]
          },
          "execution_count": 5,
          "metadata": {},
          "output_type": "execute_result"
        }
      ],
      "source": [
        "order_items_df.head()"
      ]
    },
    {
      "cell_type": "markdown",
      "metadata": {
        "id": "G7nFcijBA-eM"
      },
      "source": [
        "#### order_payments_df\n",
        "\n",
        "Dataset ini berisi informasi tentang metode pembayaran yang digunakan untuk setiap pesanan. Satu pesanan dapat memiliki multiple metode pembayaran (misalnya: sebagian dibayar dengan kartu kredit, sebagian dengan voucher).\n",
        "\n",
        "Berikut adalah penjelasan detail untuk setiap kolom pada dataset order_payments:\n",
        "\n",
        "- **order_id**: ID unik untuk setiap pesanan. Format: string alfanumerik 32 karakter. Contoh: \"b81ef226f3fe1789b1e8b2acac839d17\". Dapat di-join dengan tabel orders untuk mendapatkan informasi detail pesanan.\n",
        "\n",
        "- **payment_sequential**: Nomor urut metode pembayaran dalam satu pesanan. Dimulai dari 1 untuk pembayaran pertama, 2 untuk pembayaran kedua, dan seterusnya. Tipe data: integer. Contoh: 1, 2, 3 (menunjukkan pembayaran ke-1, ke-2, ke-3 dalam pesanan yang sama).\n",
        "\n",
        "- **payment_type**: Jenis metode pembayaran yang digunakan. Format: string. Pilihan yang tersedia:\n",
        "  - \"credit_card\": Kartu kredit\n",
        "  - \"debit_card\": Kartu debit\n",
        "  - \"boleto\": Voucher bank (metode pembayaran populer di Brasil)\n",
        "  - \"voucher\": Voucher/gift card\n",
        "  - \"not_defined\": Tidak didefinisikan\n",
        "\n",
        "- **payment_installments**: Jumlah cicilan untuk pembayaran tersebut. Tipe data: integer. Contoh: 1 (lunas), 2, 3, 6, 8, 12. Nilai 1 berarti pembayaran lunas tanpa cicilan.\n",
        "\n",
        "- **payment_value**: Nilai pembayaran untuk metode pembayaran tersebut dalam mata uang Real Brasil (BRL). Tipe data: float. Contoh: 99.33, 24.39, 65.71. Total payment_value untuk satu pesanan harus sama dengan total nilai pesanan.\n",
        "\n",
        "**Catatan Penting:**\n",
        "- Satu pesanan (order_id) dapat memiliki multiple metode pembayaran dengan payment_sequential yang berbeda\n",
        "- Total payment_value untuk semua metode pembayaran dalam satu pesanan harus sama dengan total nilai pesanan\n",
        "- payment_installments > 1 hanya berlaku untuk credit_card dan debit_card\n",
        "- boleto biasanya tidak memiliki cicilan (payment_installments = 1)\n",
        "- Dataset ini dapat di-join dengan tabel orders menggunakan order_id\n",
        "- Dapat digunakan untuk analisis: preferensi metode pembayaran, analisis cicilan, conversion rate per metode pembayaran, dan customer payment behavior"
      ]
    },
    {
      "cell_type": "code",
      "execution_count": 6,
      "metadata": {
        "id": "Px-yv0MzA-eM",
        "outputId": "9df51e53-3809-458e-8707-d7cc752f89a7"
      },
      "outputs": [
        {
          "data": {
            "text/html": [
              "<div>\n",
              "<style scoped>\n",
              "    .dataframe tbody tr th:only-of-type {\n",
              "        vertical-align: middle;\n",
              "    }\n",
              "\n",
              "    .dataframe tbody tr th {\n",
              "        vertical-align: top;\n",
              "    }\n",
              "\n",
              "    .dataframe thead th {\n",
              "        text-align: right;\n",
              "    }\n",
              "</style>\n",
              "<table border=\"1\" class=\"dataframe\">\n",
              "  <thead>\n",
              "    <tr style=\"text-align: right;\">\n",
              "      <th></th>\n",
              "      <th>order_id</th>\n",
              "      <th>payment_sequential</th>\n",
              "      <th>payment_type</th>\n",
              "      <th>payment_installments</th>\n",
              "      <th>payment_value</th>\n",
              "    </tr>\n",
              "  </thead>\n",
              "  <tbody>\n",
              "    <tr>\n",
              "      <th>0</th>\n",
              "      <td>b81ef226f3fe1789b1e8b2acac839d17</td>\n",
              "      <td>1</td>\n",
              "      <td>credit_card</td>\n",
              "      <td>8</td>\n",
              "      <td>99.33</td>\n",
              "    </tr>\n",
              "    <tr>\n",
              "      <th>1</th>\n",
              "      <td>a9810da82917af2d9aefd1278f1dcfa0</td>\n",
              "      <td>1</td>\n",
              "      <td>credit_card</td>\n",
              "      <td>1</td>\n",
              "      <td>24.39</td>\n",
              "    </tr>\n",
              "    <tr>\n",
              "      <th>2</th>\n",
              "      <td>25e8ea4e93396b6fa0d3dd708e76c1bd</td>\n",
              "      <td>1</td>\n",
              "      <td>credit_card</td>\n",
              "      <td>1</td>\n",
              "      <td>65.71</td>\n",
              "    </tr>\n",
              "    <tr>\n",
              "      <th>3</th>\n",
              "      <td>ba78997921bbcdc1373bb41e913ab953</td>\n",
              "      <td>1</td>\n",
              "      <td>credit_card</td>\n",
              "      <td>8</td>\n",
              "      <td>107.78</td>\n",
              "    </tr>\n",
              "    <tr>\n",
              "      <th>4</th>\n",
              "      <td>42fdf880ba16b47b59251dd489d4441a</td>\n",
              "      <td>1</td>\n",
              "      <td>credit_card</td>\n",
              "      <td>2</td>\n",
              "      <td>128.45</td>\n",
              "    </tr>\n",
              "  </tbody>\n",
              "</table>\n",
              "</div>"
            ],
            "text/plain": [
              "                           order_id  payment_sequential payment_type  \\\n",
              "0  b81ef226f3fe1789b1e8b2acac839d17                   1  credit_card   \n",
              "1  a9810da82917af2d9aefd1278f1dcfa0                   1  credit_card   \n",
              "2  25e8ea4e93396b6fa0d3dd708e76c1bd                   1  credit_card   \n",
              "3  ba78997921bbcdc1373bb41e913ab953                   1  credit_card   \n",
              "4  42fdf880ba16b47b59251dd489d4441a                   1  credit_card   \n",
              "\n",
              "   payment_installments  payment_value  \n",
              "0                     8          99.33  \n",
              "1                     1          24.39  \n",
              "2                     1          65.71  \n",
              "3                     8         107.78  \n",
              "4                     2         128.45  "
            ]
          },
          "execution_count": 6,
          "metadata": {},
          "output_type": "execute_result"
        }
      ],
      "source": [
        "order_payments_df.head()"
      ]
    },
    {
      "cell_type": "markdown",
      "metadata": {
        "id": "kF8Jo19SA-eM"
      },
      "source": [
        "#### order_reviews_df\n",
        "\n",
        "Dataset ini berisi informasi tentang review dan rating yang diberikan oleh pelanggan setelah menerima produk. Setelah pelanggan membeli produk dari Olist Store, penjual akan diberitahu untuk memenuhi pesanan tersebut. Setelah pelanggan menerima produk, atau pada tanggal pengiriman yang diperkirakan, pelanggan akan menerima survei kepuasan melalui email di mana mereka dapat memberikan rating untuk pengalaman pembelian dan menulis komentar.\n",
        "\n",
        "Berikut adalah penjelasan detail untuk setiap kolom pada dataset order_reviews:\n",
        "\n",
        "- **review_id**: ID unik untuk setiap review. Format: string alfanumerik 32 karakter. Contoh: \"7bc2406110b926393aa56f80a40eba40\". Setiap review memiliki ID yang unik.\n",
        "\n",
        "- **order_id**: ID unik untuk pesanan yang direview. Format: string alfanumerik 32 karakter. Contoh: \"73fc7af87114b39712e6da79b0a377eb\". Dapat di-join dengan tabel orders untuk mendapatkan informasi detail pesanan.\n",
        "\n",
        "- **review_score**: Rating kepuasan pelanggan dalam skala 1-5. Tipe data: integer. Nilai:\n",
        "  - 1: Sangat tidak puas\n",
        "  - 2: Tidak puas\n",
        "  - 3: Netral\n",
        "  - 4: Puas\n",
        "  - 5: Sangat puas\n",
        "\n",
        "- **review_comment_title**: Judul komentar review (opsional). Format: string. Bisa kosong (null) jika pelanggan tidak memberikan judul. Contoh: \"Excellent product\", \"Fast delivery\".\n",
        "\n",
        "- **review_comment_message**: Pesan komentar review (opsional). Format: string. Bisa kosong (null) jika pelanggan tidak memberikan komentar. Contoh: \"Recebi bem antes do prazo estipulado\" (diterima jauh sebelum batas waktu yang ditetapkan).\n",
        "\n",
        "- **review_creation_date**: Tanggal review dibuat. Format: datetime (YYYY-MM-DD HH:MM:SS). Contoh: \"2018-01-18 00:00:00\". Biasanya di-set ke 00:00:00 untuk menyamakan waktu.\n",
        "\n",
        "- **review_answer_timestamp**: Timestamp ketika review dijawab/dikirim. Format: datetime (YYYY-MM-DD HH:MM:SS). Contoh: \"2018-01-18 21:46:59\". Waktu aktual ketika pelanggan mengirimkan review.\n",
        "\n",
        "**Catatan Penting:**\n",
        "- Tidak semua pesanan memiliki review (beberapa pelanggan tidak memberikan review)\n",
        "- review_score adalah metrik utama untuk mengukur kepuasan pelanggan\n",
        "- review_comment_title dan review_comment_message dapat kosong (null)\n",
        "- review_creation_date biasanya berbeda dengan review_answer_timestamp\n",
        "- Dataset ini dapat di-join dengan tabel orders menggunakan order_id\n",
        "- Dapat digunakan untuk analisis: customer satisfaction, sentiment analysis, product quality assessment, seller performance, dan customer feedback trends"
      ]
    },
    {
      "cell_type": "code",
      "execution_count": 7,
      "metadata": {
        "id": "CcaBD8CLA-eM",
        "outputId": "b54cf12f-c843-46ab-82c2-143f8faa2af0"
      },
      "outputs": [
        {
          "data": {
            "text/html": [
              "<div>\n",
              "<style scoped>\n",
              "    .dataframe tbody tr th:only-of-type {\n",
              "        vertical-align: middle;\n",
              "    }\n",
              "\n",
              "    .dataframe tbody tr th {\n",
              "        vertical-align: top;\n",
              "    }\n",
              "\n",
              "    .dataframe thead th {\n",
              "        text-align: right;\n",
              "    }\n",
              "</style>\n",
              "<table border=\"1\" class=\"dataframe\">\n",
              "  <thead>\n",
              "    <tr style=\"text-align: right;\">\n",
              "      <th></th>\n",
              "      <th>review_id</th>\n",
              "      <th>order_id</th>\n",
              "      <th>review_score</th>\n",
              "      <th>review_comment_title</th>\n",
              "      <th>review_comment_message</th>\n",
              "      <th>review_creation_date</th>\n",
              "      <th>review_answer_timestamp</th>\n",
              "    </tr>\n",
              "  </thead>\n",
              "  <tbody>\n",
              "    <tr>\n",
              "      <th>0</th>\n",
              "      <td>7bc2406110b926393aa56f80a40eba40</td>\n",
              "      <td>73fc7af87114b39712e6da79b0a377eb</td>\n",
              "      <td>4</td>\n",
              "      <td>NaN</td>\n",
              "      <td>NaN</td>\n",
              "      <td>2018-01-18 00:00:00</td>\n",
              "      <td>2018-01-18 21:46:59</td>\n",
              "    </tr>\n",
              "    <tr>\n",
              "      <th>1</th>\n",
              "      <td>80e641a11e56f04c1ad469d5645fdfde</td>\n",
              "      <td>a548910a1c6147796b98fdf73dbeba33</td>\n",
              "      <td>5</td>\n",
              "      <td>NaN</td>\n",
              "      <td>NaN</td>\n",
              "      <td>2018-03-10 00:00:00</td>\n",
              "      <td>2018-03-11 03:05:13</td>\n",
              "    </tr>\n",
              "    <tr>\n",
              "      <th>2</th>\n",
              "      <td>228ce5500dc1d8e020d8d1322874b6f0</td>\n",
              "      <td>f9e4b658b201a9f2ecdecbb34bed034b</td>\n",
              "      <td>5</td>\n",
              "      <td>NaN</td>\n",
              "      <td>NaN</td>\n",
              "      <td>2018-02-17 00:00:00</td>\n",
              "      <td>2018-02-18 14:36:24</td>\n",
              "    </tr>\n",
              "    <tr>\n",
              "      <th>3</th>\n",
              "      <td>e64fb393e7b32834bb789ff8bb30750e</td>\n",
              "      <td>658677c97b385a9be170737859d3511b</td>\n",
              "      <td>5</td>\n",
              "      <td>NaN</td>\n",
              "      <td>Recebi bem antes do prazo estipulado.</td>\n",
              "      <td>2017-04-21 00:00:00</td>\n",
              "      <td>2017-04-21 22:02:06</td>\n",
              "    </tr>\n",
              "    <tr>\n",
              "      <th>4</th>\n",
              "      <td>f7c4243c7fe1938f181bec41a392bdeb</td>\n",
              "      <td>8e6bfb81e283fa7e4f11123a3fb894f1</td>\n",
              "      <td>5</td>\n",
              "      <td>NaN</td>\n",
              "      <td>Parabéns lojas lannister adorei comprar pela I...</td>\n",
              "      <td>2018-03-01 00:00:00</td>\n",
              "      <td>2018-03-02 10:26:53</td>\n",
              "    </tr>\n",
              "  </tbody>\n",
              "</table>\n",
              "</div>"
            ],
            "text/plain": [
              "                          review_id                          order_id  \\\n",
              "0  7bc2406110b926393aa56f80a40eba40  73fc7af87114b39712e6da79b0a377eb   \n",
              "1  80e641a11e56f04c1ad469d5645fdfde  a548910a1c6147796b98fdf73dbeba33   \n",
              "2  228ce5500dc1d8e020d8d1322874b6f0  f9e4b658b201a9f2ecdecbb34bed034b   \n",
              "3  e64fb393e7b32834bb789ff8bb30750e  658677c97b385a9be170737859d3511b   \n",
              "4  f7c4243c7fe1938f181bec41a392bdeb  8e6bfb81e283fa7e4f11123a3fb894f1   \n",
              "\n",
              "   review_score review_comment_title  \\\n",
              "0             4                  NaN   \n",
              "1             5                  NaN   \n",
              "2             5                  NaN   \n",
              "3             5                  NaN   \n",
              "4             5                  NaN   \n",
              "\n",
              "                              review_comment_message review_creation_date  \\\n",
              "0                                                NaN  2018-01-18 00:00:00   \n",
              "1                                                NaN  2018-03-10 00:00:00   \n",
              "2                                                NaN  2018-02-17 00:00:00   \n",
              "3              Recebi bem antes do prazo estipulado.  2017-04-21 00:00:00   \n",
              "4  Parabéns lojas lannister adorei comprar pela I...  2018-03-01 00:00:00   \n",
              "\n",
              "  review_answer_timestamp  \n",
              "0     2018-01-18 21:46:59  \n",
              "1     2018-03-11 03:05:13  \n",
              "2     2018-02-18 14:36:24  \n",
              "3     2017-04-21 22:02:06  \n",
              "4     2018-03-02 10:26:53  "
            ]
          },
          "execution_count": 7,
          "metadata": {},
          "output_type": "execute_result"
        }
      ],
      "source": [
        "order_reviews_df.head()"
      ]
    },
    {
      "cell_type": "markdown",
      "metadata": {
        "id": "Sf1kZMXMA-eM"
      },
      "source": [
        "#### orders_df\n",
        "\n",
        "Dataset ini berisi informasi utama tentang setiap pesanan dalam sistem e-commerce. Ini adalah tabel inti yang menghubungkan pelanggan dengan item yang dibeli, pembayaran, dan review. Dataset ini melacak seluruh siklus hidup pesanan dari pembelian hingga pengiriman.\n",
        "\n",
        "Berikut adalah penjelasan detail untuk setiap kolom pada dataset orders:\n",
        "\n",
        "- **order_id**: ID unik untuk setiap pesanan. Format: string alfanumerik 32 karakter. Contoh: \"e481f51cbdc54678b7cc49136f2d6af7\". Ini adalah primary key yang menghubungkan dengan semua tabel lainnya.\n",
        "\n",
        "- **customer_id**: ID pelanggan yang melakukan pesanan. Format: string alfanumerik 32 karakter. Contoh: \"9ef432eb6251297304e76186b10a928d\". Dapat di-join dengan tabel customers untuk mendapatkan informasi detail pelanggan.\n",
        "\n",
        "- **order_status**: Status terkini dari pesanan. Format: string. Pilihan yang tersedia:\n",
        "  - \"delivered\": Pesanan telah dikirim dan diterima pelanggan\n",
        "  - \"invoiced\": Pesanan telah dibuat invoice (belum dikirim)\n",
        "  - \"shipped\": Pesanan telah dikirim (sedang dalam perjalanan)\n",
        "  - \"canceled\": Pesanan dibatalkan\n",
        "  - \"unavailable\": Pesanan tidak tersedia\n",
        "\n",
        "- **order_purchase_timestamp**: Waktu ketika pesanan dibuat/dibeli. Format: datetime (YYYY-MM-DD HH:MM:SS). Contoh: \"2017-10-02 10:56:33\". Ini adalah waktu aktual ketika pelanggan menyelesaikan checkout.\n",
        "\n",
        "- **order_approved_at**: Waktu ketika pesanan disetujui oleh sistem. Format: datetime (YYYY-MM-DD HH:MM:SS). Contoh: \"2017-10-02 11:07:15\". Biasanya terjadi beberapa menit setelah order_purchase_timestamp.\n",
        "\n",
        "- **order_delivered_carrier_date**: Waktu ketika pesanan diserahkan ke kurir untuk pengiriman. Format: datetime (YYYY-MM-DD HH:MM:SS). Contoh: \"2017-10-04 19:55:00\". Bisa kosong (null) jika pesanan belum dikirim.\n",
        "\n",
        "- **order_delivered_customer_date**: Waktu ketika pesanan diterima oleh pelanggan. Format: datetime (YYYY-MM-DD HH:MM:SS). Contoh: \"2017-10-10 21:25:13\". Bisa kosong (null) jika pesanan belum diterima.\n",
        "\n",
        "- **order_estimated_delivery_date**: Estimasi waktu pengiriman yang diberikan kepada pelanggan. Format: datetime (YYYY-MM-DD HH:MM:SS). Contoh: \"2017-10-18 00:00:00\". Biasanya di-set ke 00:00:00 untuk menyamakan waktu.\n",
        "\n",
        "**Catatan Penting:**\n",
        "- order_id adalah primary key yang menghubungkan dengan semua tabel lainnya (order_items, order_payments, order_reviews)\n",
        "- Satu customer_id dapat memiliki multiple order_id (pelanggan dapat melakukan multiple pesanan)\n",
        "- order_delivered_carrier_date dan order_delivered_customer_date bisa kosong untuk pesanan yang belum dikirim/diterima\n",
        "- Waktu pengiriman aktual = order_delivered_customer_date - order_delivered_carrier_date\n",
        "- Dataset ini dapat di-join dengan tabel customers menggunakan customer_id\n",
        "- Dapat digunakan untuk analisis: order lifecycle, delivery performance, customer behavior, seasonal trends, dan operational efficiency"
      ]
    },
    {
      "cell_type": "code",
      "execution_count": 8,
      "metadata": {
        "id": "zu3pnUhEA-eM",
        "outputId": "d951a8fa-bc7e-42ac-df10-e36c7e22e06e"
      },
      "outputs": [
        {
          "data": {
            "text/html": [
              "<div>\n",
              "<style scoped>\n",
              "    .dataframe tbody tr th:only-of-type {\n",
              "        vertical-align: middle;\n",
              "    }\n",
              "\n",
              "    .dataframe tbody tr th {\n",
              "        vertical-align: top;\n",
              "    }\n",
              "\n",
              "    .dataframe thead th {\n",
              "        text-align: right;\n",
              "    }\n",
              "</style>\n",
              "<table border=\"1\" class=\"dataframe\">\n",
              "  <thead>\n",
              "    <tr style=\"text-align: right;\">\n",
              "      <th></th>\n",
              "      <th>order_id</th>\n",
              "      <th>customer_id</th>\n",
              "      <th>order_status</th>\n",
              "      <th>order_purchase_timestamp</th>\n",
              "      <th>order_approved_at</th>\n",
              "      <th>order_delivered_carrier_date</th>\n",
              "      <th>order_delivered_customer_date</th>\n",
              "      <th>order_estimated_delivery_date</th>\n",
              "    </tr>\n",
              "  </thead>\n",
              "  <tbody>\n",
              "    <tr>\n",
              "      <th>0</th>\n",
              "      <td>e481f51cbdc54678b7cc49136f2d6af7</td>\n",
              "      <td>9ef432eb6251297304e76186b10a928d</td>\n",
              "      <td>delivered</td>\n",
              "      <td>2017-10-02 10:56:33</td>\n",
              "      <td>2017-10-02 11:07:15</td>\n",
              "      <td>2017-10-04 19:55:00</td>\n",
              "      <td>2017-10-10 21:25:13</td>\n",
              "      <td>2017-10-18 00:00:00</td>\n",
              "    </tr>\n",
              "    <tr>\n",
              "      <th>1</th>\n",
              "      <td>53cdb2fc8bc7dce0b6741e2150273451</td>\n",
              "      <td>b0830fb4747a6c6d20dea0b8c802d7ef</td>\n",
              "      <td>delivered</td>\n",
              "      <td>2018-07-24 20:41:37</td>\n",
              "      <td>2018-07-26 03:24:27</td>\n",
              "      <td>2018-07-26 14:31:00</td>\n",
              "      <td>2018-08-07 15:27:45</td>\n",
              "      <td>2018-08-13 00:00:00</td>\n",
              "    </tr>\n",
              "    <tr>\n",
              "      <th>2</th>\n",
              "      <td>47770eb9100c2d0c44946d9cf07ec65d</td>\n",
              "      <td>41ce2a54c0b03bf3443c3d931a367089</td>\n",
              "      <td>delivered</td>\n",
              "      <td>2018-08-08 08:38:49</td>\n",
              "      <td>2018-08-08 08:55:23</td>\n",
              "      <td>2018-08-08 13:50:00</td>\n",
              "      <td>2018-08-17 18:06:29</td>\n",
              "      <td>2018-09-04 00:00:00</td>\n",
              "    </tr>\n",
              "    <tr>\n",
              "      <th>3</th>\n",
              "      <td>949d5b44dbf5de918fe9c16f97b45f8a</td>\n",
              "      <td>f88197465ea7920adcdbec7375364d82</td>\n",
              "      <td>delivered</td>\n",
              "      <td>2017-11-18 19:28:06</td>\n",
              "      <td>2017-11-18 19:45:59</td>\n",
              "      <td>2017-11-22 13:39:59</td>\n",
              "      <td>2017-12-02 00:28:42</td>\n",
              "      <td>2017-12-15 00:00:00</td>\n",
              "    </tr>\n",
              "    <tr>\n",
              "      <th>4</th>\n",
              "      <td>ad21c59c0840e6cb83a9ceb5573f8159</td>\n",
              "      <td>8ab97904e6daea8866dbdbc4fb7aad2c</td>\n",
              "      <td>delivered</td>\n",
              "      <td>2018-02-13 21:18:39</td>\n",
              "      <td>2018-02-13 22:20:29</td>\n",
              "      <td>2018-02-14 19:46:34</td>\n",
              "      <td>2018-02-16 18:17:02</td>\n",
              "      <td>2018-02-26 00:00:00</td>\n",
              "    </tr>\n",
              "  </tbody>\n",
              "</table>\n",
              "</div>"
            ],
            "text/plain": [
              "                           order_id                       customer_id  \\\n",
              "0  e481f51cbdc54678b7cc49136f2d6af7  9ef432eb6251297304e76186b10a928d   \n",
              "1  53cdb2fc8bc7dce0b6741e2150273451  b0830fb4747a6c6d20dea0b8c802d7ef   \n",
              "2  47770eb9100c2d0c44946d9cf07ec65d  41ce2a54c0b03bf3443c3d931a367089   \n",
              "3  949d5b44dbf5de918fe9c16f97b45f8a  f88197465ea7920adcdbec7375364d82   \n",
              "4  ad21c59c0840e6cb83a9ceb5573f8159  8ab97904e6daea8866dbdbc4fb7aad2c   \n",
              "\n",
              "  order_status order_purchase_timestamp    order_approved_at  \\\n",
              "0    delivered      2017-10-02 10:56:33  2017-10-02 11:07:15   \n",
              "1    delivered      2018-07-24 20:41:37  2018-07-26 03:24:27   \n",
              "2    delivered      2018-08-08 08:38:49  2018-08-08 08:55:23   \n",
              "3    delivered      2017-11-18 19:28:06  2017-11-18 19:45:59   \n",
              "4    delivered      2018-02-13 21:18:39  2018-02-13 22:20:29   \n",
              "\n",
              "  order_delivered_carrier_date order_delivered_customer_date  \\\n",
              "0          2017-10-04 19:55:00           2017-10-10 21:25:13   \n",
              "1          2018-07-26 14:31:00           2018-08-07 15:27:45   \n",
              "2          2018-08-08 13:50:00           2018-08-17 18:06:29   \n",
              "3          2017-11-22 13:39:59           2017-12-02 00:28:42   \n",
              "4          2018-02-14 19:46:34           2018-02-16 18:17:02   \n",
              "\n",
              "  order_estimated_delivery_date  \n",
              "0           2017-10-18 00:00:00  \n",
              "1           2018-08-13 00:00:00  \n",
              "2           2018-09-04 00:00:00  \n",
              "3           2017-12-15 00:00:00  \n",
              "4           2018-02-26 00:00:00  "
            ]
          },
          "execution_count": 8,
          "metadata": {},
          "output_type": "execute_result"
        }
      ],
      "source": [
        "orders_df.head()"
      ]
    },
    {
      "cell_type": "markdown",
      "metadata": {
        "id": "bvZsX5I_A-eN"
      },
      "source": [
        "#### product_category_df\n",
        "\n",
        "Dataset ini berisi tabel terjemahan untuk nama kategori produk dari bahasa Portugis ke bahasa Inggris. Dataset ini membantu dalam analisis kategori produk dengan menyediakan terjemahan yang mudah dipahami untuk audiens internasional.\n",
        "\n",
        "Berikut adalah penjelasan detail untuk setiap kolom pada dataset product_category:\n",
        "\n",
        "- **product_category_name**: Nama kategori produk dalam bahasa Portugis. Format: string. Contoh: \"beleza_saude\", \"informatica_acessorios\", \"automotivo\", \"cama_mesa_banho\". Ini adalah nama kategori asli yang digunakan dalam dataset products.\n",
        "\n",
        "- **product_category_name_english**: Terjemahan nama kategori produk dalam bahasa Inggris. Format: string. Contoh: \"health_beauty\", \"computers_accessories\", \"auto\", \"bed_bath_table\". Ini adalah terjemahan yang lebih mudah dipahami untuk analisis internasional.\n",
        "\n",
        "**Contoh Kategori Populer:**\n",
        "- \"beleza_saude\" → \"health_beauty\" (Kesehatan & Kecantikan)\n",
        "- \"informatica_acessorios\" → \"computers_accessories\" (Aksesori Komputer)\n",
        "- \"automotivo\" → \"auto\" (Otomotif)\n",
        "- \"cama_mesa_banho\" → \"bed_bath_table\" (Tempat Tidur, Meja & Kamar Mandi)\n",
        "- \"moveis_decoracao\" → \"furniture_decor\" (Furnitur & Dekorasi)\n",
        "- \"esporte_lazer\" → \"sports_leisure\" (Olahraga & Rekreasi)\n",
        "- \"perfumaria\" → \"perfumery\" (Parfum)\n",
        "- \"utilidades_domesticas\" → \"housewares\" (Perlengkapan Rumah Tangga)\n",
        "\n",
        "**Catatan Penting:**\n",
        "- Dataset ini adalah tabel lookup/reference yang menghubungkan nama kategori Portugis dengan terjemahan Inggris\n",
        "- Dapat di-join dengan tabel products menggunakan product_category_name\n",
        "- Berguna untuk analisis kategori yang lebih mudah dipahami oleh audiens internasional\n",
        "- Dapat digunakan untuk analisis: category performance, market segmentation, dan product categorization"
      ]
    },
    {
      "cell_type": "code",
      "execution_count": 9,
      "metadata": {
        "id": "H_WtW59sA-eN",
        "outputId": "802016e6-91c2-468c-80e2-236fda784193"
      },
      "outputs": [
        {
          "data": {
            "text/html": [
              "<div>\n",
              "<style scoped>\n",
              "    .dataframe tbody tr th:only-of-type {\n",
              "        vertical-align: middle;\n",
              "    }\n",
              "\n",
              "    .dataframe tbody tr th {\n",
              "        vertical-align: top;\n",
              "    }\n",
              "\n",
              "    .dataframe thead th {\n",
              "        text-align: right;\n",
              "    }\n",
              "</style>\n",
              "<table border=\"1\" class=\"dataframe\">\n",
              "  <thead>\n",
              "    <tr style=\"text-align: right;\">\n",
              "      <th></th>\n",
              "      <th>product_category_name</th>\n",
              "      <th>product_category_name_english</th>\n",
              "    </tr>\n",
              "  </thead>\n",
              "  <tbody>\n",
              "    <tr>\n",
              "      <th>0</th>\n",
              "      <td>beleza_saude</td>\n",
              "      <td>health_beauty</td>\n",
              "    </tr>\n",
              "    <tr>\n",
              "      <th>1</th>\n",
              "      <td>informatica_acessorios</td>\n",
              "      <td>computers_accessories</td>\n",
              "    </tr>\n",
              "    <tr>\n",
              "      <th>2</th>\n",
              "      <td>automotivo</td>\n",
              "      <td>auto</td>\n",
              "    </tr>\n",
              "    <tr>\n",
              "      <th>3</th>\n",
              "      <td>cama_mesa_banho</td>\n",
              "      <td>bed_bath_table</td>\n",
              "    </tr>\n",
              "    <tr>\n",
              "      <th>4</th>\n",
              "      <td>moveis_decoracao</td>\n",
              "      <td>furniture_decor</td>\n",
              "    </tr>\n",
              "  </tbody>\n",
              "</table>\n",
              "</div>"
            ],
            "text/plain": [
              "    product_category_name product_category_name_english\n",
              "0            beleza_saude                 health_beauty\n",
              "1  informatica_acessorios         computers_accessories\n",
              "2              automotivo                          auto\n",
              "3         cama_mesa_banho                bed_bath_table\n",
              "4        moveis_decoracao               furniture_decor"
            ]
          },
          "execution_count": 9,
          "metadata": {},
          "output_type": "execute_result"
        }
      ],
      "source": [
        "product_category_df.head()"
      ]
    },
    {
      "cell_type": "markdown",
      "metadata": {
        "id": "NIFk5XYCA-eN"
      },
      "source": [
        "#### products_df\n",
        "\n",
        "Dataset ini berisi informasi detail tentang setiap produk yang dijual di platform e-commerce. Dataset ini mencakup atribut fisik produk, kategori, dan metadata yang berguna untuk analisis produk dan rekomendasi.\n",
        "\n",
        "Berikut adalah penjelasan detail untuk setiap kolom pada dataset products:\n",
        "\n",
        "- **product_id**: ID unik untuk setiap produk. Format: string alfanumerik 32 karakter. Contoh: \"1e9e8ef04dbcff4541ed26657ea517e5\". Ini adalah primary key yang menghubungkan dengan tabel order_items.\n",
        "\n",
        "- **product_category_name**: Nama kategori produk dalam bahasa Portugis. Format: string. Contoh: \"perfumaria\", \"artes\", \"esporte_lazer\", \"bebes\". Dapat di-join dengan tabel product_category_name_translation untuk mendapatkan terjemahan bahasa Inggris.\n",
        "\n",
        "- **product_name_lenght**: Panjang karakter dari nama produk. Tipe data: integer. Contoh: 40, 44, 46. Mengindikasikan seberapa deskriptif nama produk tersebut.\n",
        "\n",
        "- **product_description_lenght**: Panjang karakter dari deskripsi produk. Tipe data: integer. Contoh: 287, 276, 250. Mengindikasikan seberapa detail deskripsi produk yang diberikan penjual.\n",
        "\n",
        "- **product_photos_qty**: Jumlah foto yang tersedia untuk produk. Tipe data: integer. Contoh: 1, 4, 2. Semakin banyak foto, semakin baik untuk konversi penjualan.\n",
        "\n",
        "- **product_weight_g**: Berat produk dalam gram. Tipe data: integer. Contoh: 225, 1000, 154. Digunakan untuk perhitungan biaya pengiriman dan logistik.\n",
        "\n",
        "- **product_length_cm**: Panjang produk dalam sentimeter. Tipe data: integer. Contoh: 16, 30, 18. Salah satu dimensi fisik produk.\n",
        "\n",
        "- **product_height_cm**: Tinggi produk dalam sentimeter. Tipe data: integer. Contoh: 10, 18, 9. Salah satu dimensi fisik produk.\n",
        "\n",
        "- **product_width_cm**: Lebar produk dalam sentimeter. Tipe data: integer. Contoh: 14, 20, 15. Salah satu dimensi fisik produk.\n",
        "\n",
        "**Catatan Penting:**\n",
        "- product_id adalah primary key yang menghubungkan dengan tabel order_items\n",
        "- product_category_name dapat di-join dengan tabel product_category_name_translation untuk mendapatkan terjemahan bahasa Inggris\n",
        "- Dimensi fisik (length, height, width) dan weight dapat digunakan untuk analisis logistik dan biaya pengiriman\n",
        "- product_name_lenght dan product_description_lenght dapat digunakan untuk analisis kualitas listing produk\n",
        "- product_photos_qty dapat digunakan untuk analisis conversion rate (semakin banyak foto, semakin tinggi kemungkinan terjual)\n",
        "- Dapat digunakan untuk analisis: product performance, category analysis, logistics optimization, dan product recommendation"
      ]
    },
    {
      "cell_type": "code",
      "execution_count": 10,
      "metadata": {
        "id": "FcgpHCu4A-eN",
        "outputId": "ec3343a4-bec0-463b-c3e1-6d183536d76c"
      },
      "outputs": [
        {
          "data": {
            "text/html": [
              "<div>\n",
              "<style scoped>\n",
              "    .dataframe tbody tr th:only-of-type {\n",
              "        vertical-align: middle;\n",
              "    }\n",
              "\n",
              "    .dataframe tbody tr th {\n",
              "        vertical-align: top;\n",
              "    }\n",
              "\n",
              "    .dataframe thead th {\n",
              "        text-align: right;\n",
              "    }\n",
              "</style>\n",
              "<table border=\"1\" class=\"dataframe\">\n",
              "  <thead>\n",
              "    <tr style=\"text-align: right;\">\n",
              "      <th></th>\n",
              "      <th>product_id</th>\n",
              "      <th>product_category_name</th>\n",
              "      <th>product_name_lenght</th>\n",
              "      <th>product_description_lenght</th>\n",
              "      <th>product_photos_qty</th>\n",
              "      <th>product_weight_g</th>\n",
              "      <th>product_length_cm</th>\n",
              "      <th>product_height_cm</th>\n",
              "      <th>product_width_cm</th>\n",
              "    </tr>\n",
              "  </thead>\n",
              "  <tbody>\n",
              "    <tr>\n",
              "      <th>0</th>\n",
              "      <td>1e9e8ef04dbcff4541ed26657ea517e5</td>\n",
              "      <td>perfumaria</td>\n",
              "      <td>40.0</td>\n",
              "      <td>287.0</td>\n",
              "      <td>1.0</td>\n",
              "      <td>225.0</td>\n",
              "      <td>16.0</td>\n",
              "      <td>10.0</td>\n",
              "      <td>14.0</td>\n",
              "    </tr>\n",
              "    <tr>\n",
              "      <th>1</th>\n",
              "      <td>3aa071139cb16b67ca9e5dea641aaa2f</td>\n",
              "      <td>artes</td>\n",
              "      <td>44.0</td>\n",
              "      <td>276.0</td>\n",
              "      <td>1.0</td>\n",
              "      <td>1000.0</td>\n",
              "      <td>30.0</td>\n",
              "      <td>18.0</td>\n",
              "      <td>20.0</td>\n",
              "    </tr>\n",
              "    <tr>\n",
              "      <th>2</th>\n",
              "      <td>96bd76ec8810374ed1b65e291975717f</td>\n",
              "      <td>esporte_lazer</td>\n",
              "      <td>46.0</td>\n",
              "      <td>250.0</td>\n",
              "      <td>1.0</td>\n",
              "      <td>154.0</td>\n",
              "      <td>18.0</td>\n",
              "      <td>9.0</td>\n",
              "      <td>15.0</td>\n",
              "    </tr>\n",
              "    <tr>\n",
              "      <th>3</th>\n",
              "      <td>cef67bcfe19066a932b7673e239eb23d</td>\n",
              "      <td>bebes</td>\n",
              "      <td>27.0</td>\n",
              "      <td>261.0</td>\n",
              "      <td>1.0</td>\n",
              "      <td>371.0</td>\n",
              "      <td>26.0</td>\n",
              "      <td>4.0</td>\n",
              "      <td>26.0</td>\n",
              "    </tr>\n",
              "    <tr>\n",
              "      <th>4</th>\n",
              "      <td>9dc1a7de274444849c219cff195d0b71</td>\n",
              "      <td>utilidades_domesticas</td>\n",
              "      <td>37.0</td>\n",
              "      <td>402.0</td>\n",
              "      <td>4.0</td>\n",
              "      <td>625.0</td>\n",
              "      <td>20.0</td>\n",
              "      <td>17.0</td>\n",
              "      <td>13.0</td>\n",
              "    </tr>\n",
              "  </tbody>\n",
              "</table>\n",
              "</div>"
            ],
            "text/plain": [
              "                         product_id  product_category_name  \\\n",
              "0  1e9e8ef04dbcff4541ed26657ea517e5             perfumaria   \n",
              "1  3aa071139cb16b67ca9e5dea641aaa2f                  artes   \n",
              "2  96bd76ec8810374ed1b65e291975717f          esporte_lazer   \n",
              "3  cef67bcfe19066a932b7673e239eb23d                  bebes   \n",
              "4  9dc1a7de274444849c219cff195d0b71  utilidades_domesticas   \n",
              "\n",
              "   product_name_lenght  product_description_lenght  product_photos_qty  \\\n",
              "0                 40.0                       287.0                 1.0   \n",
              "1                 44.0                       276.0                 1.0   \n",
              "2                 46.0                       250.0                 1.0   \n",
              "3                 27.0                       261.0                 1.0   \n",
              "4                 37.0                       402.0                 4.0   \n",
              "\n",
              "   product_weight_g  product_length_cm  product_height_cm  product_width_cm  \n",
              "0             225.0               16.0               10.0              14.0  \n",
              "1            1000.0               30.0               18.0              20.0  \n",
              "2             154.0               18.0                9.0              15.0  \n",
              "3             371.0               26.0                4.0              26.0  \n",
              "4             625.0               20.0               17.0              13.0  "
            ]
          },
          "execution_count": 10,
          "metadata": {},
          "output_type": "execute_result"
        }
      ],
      "source": [
        "products_df.head()"
      ]
    },
    {
      "cell_type": "markdown",
      "metadata": {
        "id": "cRSvJcnFA-eN"
      },
      "source": [
        "#### sellers_df\n",
        "\n",
        "Dataset ini berisi informasi tentang penjual (sellers) yang menjual produk di platform e-commerce. Dataset ini mencakup identitas penjual dan lokasi geografis mereka, yang berguna untuk analisis distribusi penjual dan performa berdasarkan wilayah.\n",
        "\n",
        "Berikut adalah penjelasan detail untuk setiap kolom pada dataset sellers:\n",
        "\n",
        "- **seller_id**: ID unik untuk setiap penjual. Format: string alfanumerik 32 karakter. Contoh: \"3442f8959a84dea7ee197c632cb2df15\". Ini adalah primary key yang menghubungkan dengan tabel order_items.\n",
        "\n",
        "- **seller_zip_code_prefix**: Prefix kode pos penjual (5 digit pertama). Format: string numerik. Contoh: \"13023\", \"13844\", \"20031\". Mengidentifikasi wilayah geografis tempat penjual beroperasi.\n",
        "\n",
        "- **seller_city**: Nama kota tempat penjual beroperasi. Format: string lowercase. Contoh: \"campinas\", \"mogi guacu\", \"rio de janeiro\". Dapat digunakan untuk analisis geografis dan segmentasi penjual.\n",
        "\n",
        "- **seller_state**: Kode negara bagian tempat penjual beroperasi. Format: string 2 karakter. Contoh: \"SP\", \"RJ\", \"PE\". Menggunakan singkatan standar negara bagian Brasil.\n",
        "\n",
        "**Catatan Penting:**\n",
        "- seller_id adalah primary key yang menghubungkan dengan tabel order_items\n",
        "- Data geografis (zip_code_prefix, city, state) dapat di-join dengan tabel geolocation untuk mendapatkan koordinat lat/lng\n",
        "- Satu penjual dapat menjual multiple produk dan memiliki multiple order_items\n",
        "- Dataset ini dapat di-join dengan tabel order_items menggunakan seller_id untuk mendapatkan performa penjual\n",
        "- Dapat digunakan untuk analisis: seller performance, geographic distribution, seller clustering, dan market penetration analysis"
      ]
    },
    {
      "cell_type": "code",
      "execution_count": 11,
      "metadata": {
        "id": "hAlZ6jhQA-eN",
        "outputId": "782d0265-6d51-4f50-e9c4-3b09338cd5a2"
      },
      "outputs": [
        {
          "data": {
            "text/html": [
              "<div>\n",
              "<style scoped>\n",
              "    .dataframe tbody tr th:only-of-type {\n",
              "        vertical-align: middle;\n",
              "    }\n",
              "\n",
              "    .dataframe tbody tr th {\n",
              "        vertical-align: top;\n",
              "    }\n",
              "\n",
              "    .dataframe thead th {\n",
              "        text-align: right;\n",
              "    }\n",
              "</style>\n",
              "<table border=\"1\" class=\"dataframe\">\n",
              "  <thead>\n",
              "    <tr style=\"text-align: right;\">\n",
              "      <th></th>\n",
              "      <th>seller_id</th>\n",
              "      <th>seller_zip_code_prefix</th>\n",
              "      <th>seller_city</th>\n",
              "      <th>seller_state</th>\n",
              "    </tr>\n",
              "  </thead>\n",
              "  <tbody>\n",
              "    <tr>\n",
              "      <th>0</th>\n",
              "      <td>3442f8959a84dea7ee197c632cb2df15</td>\n",
              "      <td>13023</td>\n",
              "      <td>campinas</td>\n",
              "      <td>SP</td>\n",
              "    </tr>\n",
              "    <tr>\n",
              "      <th>1</th>\n",
              "      <td>d1b65fc7debc3361ea86b5f14c68d2e2</td>\n",
              "      <td>13844</td>\n",
              "      <td>mogi guacu</td>\n",
              "      <td>SP</td>\n",
              "    </tr>\n",
              "    <tr>\n",
              "      <th>2</th>\n",
              "      <td>ce3ad9de960102d0677a81f5d0bb7b2d</td>\n",
              "      <td>20031</td>\n",
              "      <td>rio de janeiro</td>\n",
              "      <td>RJ</td>\n",
              "    </tr>\n",
              "    <tr>\n",
              "      <th>3</th>\n",
              "      <td>c0f3eea2e14555b6faeea3dd58c1b1c3</td>\n",
              "      <td>4195</td>\n",
              "      <td>sao paulo</td>\n",
              "      <td>SP</td>\n",
              "    </tr>\n",
              "    <tr>\n",
              "      <th>4</th>\n",
              "      <td>51a04a8a6bdcb23deccc82b0b80742cf</td>\n",
              "      <td>12914</td>\n",
              "      <td>braganca paulista</td>\n",
              "      <td>SP</td>\n",
              "    </tr>\n",
              "  </tbody>\n",
              "</table>\n",
              "</div>"
            ],
            "text/plain": [
              "                          seller_id  seller_zip_code_prefix  \\\n",
              "0  3442f8959a84dea7ee197c632cb2df15                   13023   \n",
              "1  d1b65fc7debc3361ea86b5f14c68d2e2                   13844   \n",
              "2  ce3ad9de960102d0677a81f5d0bb7b2d                   20031   \n",
              "3  c0f3eea2e14555b6faeea3dd58c1b1c3                    4195   \n",
              "4  51a04a8a6bdcb23deccc82b0b80742cf                   12914   \n",
              "\n",
              "         seller_city seller_state  \n",
              "0           campinas           SP  \n",
              "1         mogi guacu           SP  \n",
              "2     rio de janeiro           RJ  \n",
              "3          sao paulo           SP  \n",
              "4  braganca paulista           SP  "
            ]
          },
          "execution_count": 11,
          "metadata": {},
          "output_type": "execute_result"
        }
      ],
      "source": [
        "sellers_df.head()"
      ]
    },
    {
      "cell_type": "markdown",
      "metadata": {
        "id": "FHSiqaZp8DC1"
      },
      "source": [
        "### Assessing Data"
      ]
    },
    {
      "cell_type": "markdown",
      "metadata": {
        "id": "-Ig3kAU0A-eN"
      },
      "source": [
        "#### Menilai Tabel customers_df"
      ]
    },
    {
      "cell_type": "code",
      "execution_count": 12,
      "metadata": {
        "id": "ax-3tEjc9Cj1",
        "outputId": "44e16ba7-3bbf-4cea-9e61-e93935b6b05c"
      },
      "outputs": [
        {
          "name": "stdout",
          "output_type": "stream",
          "text": [
            "Jumlah duplikasi:  0\n",
            "<class 'pandas.core.frame.DataFrame'>\n",
            "RangeIndex: 99441 entries, 0 to 99440\n",
            "Data columns (total 5 columns):\n",
            " #   Column                    Non-Null Count  Dtype \n",
            "---  ------                    --------------  ----- \n",
            " 0   customer_id               99441 non-null  object\n",
            " 1   customer_unique_id        99441 non-null  object\n",
            " 2   customer_zip_code_prefix  99441 non-null  int64 \n",
            " 3   customer_city             99441 non-null  object\n",
            " 4   customer_state            99441 non-null  object\n",
            "dtypes: int64(1), object(4)\n",
            "memory usage: 3.8+ MB\n"
          ]
        }
      ],
      "source": [
        "print(\"Jumlah duplikasi: \", customers_df.duplicated().sum())\n",
        "customers_df.info()"
      ]
    },
    {
      "cell_type": "markdown",
      "metadata": {
        "id": "7dtxhAPrkhPL"
      },
      "source": [
        "**Insight:**\n",
        "- xxx\n",
        "- xxx"
      ]
    },
    {
      "cell_type": "markdown",
      "metadata": {
        "id": "EhN5R4hr8DC1"
      },
      "source": [
        "### Cleaning Data"
      ]
    },
    {
      "cell_type": "code",
      "execution_count": null,
      "metadata": {
        "id": "jVnYpprE9Evz"
      },
      "outputs": [],
      "source": []
    },
    {
      "cell_type": "markdown",
      "metadata": {
        "id": "Q_5ejIqckiSP"
      },
      "source": [
        "**Insight:**\n",
        "- xxx\n",
        "- xxx"
      ]
    },
    {
      "cell_type": "markdown",
      "metadata": {
        "id": "gp-Y6wU38DC1"
      },
      "source": [
        "## Exploratory Data Analysis (EDA)"
      ]
    },
    {
      "cell_type": "markdown",
      "metadata": {
        "id": "MW7WF2kr8DC1"
      },
      "source": [
        "### Explore ..."
      ]
    },
    {
      "cell_type": "code",
      "execution_count": null,
      "metadata": {
        "id": "e9CQCZjk8DC2"
      },
      "outputs": [],
      "source": []
    },
    {
      "cell_type": "markdown",
      "metadata": {
        "id": "th_Lzl2Fkj9O"
      },
      "source": [
        "**Insight:**\n",
        "- xxx\n",
        "- xxx"
      ]
    },
    {
      "cell_type": "markdown",
      "metadata": {
        "id": "zsyZjqak8DC2"
      },
      "source": [
        "## Visualization & Explanatory Analysis"
      ]
    },
    {
      "cell_type": "markdown",
      "metadata": {
        "id": "HZxOiQ6n8DC2"
      },
      "source": [
        "### Pertanyaan 1:"
      ]
    },
    {
      "cell_type": "code",
      "execution_count": null,
      "metadata": {
        "id": "1swJUdAD8DC2"
      },
      "outputs": [],
      "source": []
    },
    {
      "cell_type": "markdown",
      "metadata": {
        "id": "DgHI7CiU8DC2"
      },
      "source": [
        "### Pertanyaan 2:"
      ]
    },
    {
      "cell_type": "code",
      "execution_count": null,
      "metadata": {
        "id": "Go0lCsvO8DC2"
      },
      "outputs": [],
      "source": []
    },
    {
      "cell_type": "markdown",
      "metadata": {
        "id": "_0-36BDLklRg"
      },
      "source": [
        "**Insight:**\n",
        "- xxx\n",
        "- xxx"
      ]
    },
    {
      "cell_type": "markdown",
      "metadata": {
        "id": "_WeHlCeX8DC2"
      },
      "source": [
        "## Conclusion"
      ]
    },
    {
      "cell_type": "markdown",
      "metadata": {
        "id": "ZTcyR48Y8DC2"
      },
      "source": [
        "- Conclution pertanyaan 1\n",
        "- Conclution pertanyaan 2"
      ]
    }
  ],
  "metadata": {
    "colab": {
      "provenance": [],
      "toc_visible": true
    },
    "kernelspec": {
      "display_name": "base",
      "language": "python",
      "name": "python3"
    },
    "language_info": {
      "codemirror_mode": {
        "name": "ipython",
        "version": 3
      },
      "file_extension": ".py",
      "mimetype": "text/x-python",
      "name": "python",
      "nbconvert_exporter": "python",
      "pygments_lexer": "ipython3",
      "version": "3.13.5"
    },
    "orig_nbformat": 4
  },
  "nbformat": 4,
  "nbformat_minor": 0
}
